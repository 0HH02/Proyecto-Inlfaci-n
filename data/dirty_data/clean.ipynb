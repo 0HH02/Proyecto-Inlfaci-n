{
 "cells": [
  {
   "cell_type": "code",
   "execution_count": 31,
   "metadata": {},
   "outputs": [],
   "source": [
    "import json\n",
    "\n",
    "data  = {}\n",
    "\n",
    "with open('Países-Ideologies.json') as f:\n",
    "    data = json.load(f)\n",
    "\n",
    "data_clean = {}\n",
    "i = 0\n",
    "\n",
    "america = ['ATG', 'ARG', 'BHS', 'BRB', 'BLZ', 'BOL', 'BRA', 'CAN', 'CHL', 'COL', 'CRI', 'CUB', 'DMA', 'ECU', 'SLV', 'USA', 'GRD', 'GTM', 'GUY', 'HTI', 'HND', 'JAM', 'MEX', 'NIC', 'PAN', 'PRY', 'PER', 'DOM', 'KNA', 'VCT', 'LCA', 'SUR', 'TTO', 'URY', 'VEN']\n",
    "for  country in data['Sheet1']:\n",
    "    if country[\"ifs\"] in america:\n",
    "        if not country[\"countryname\"] in data_clean:\n",
    "            i=0\n",
    "            data_clean[country[\"countryname\"]] = {}\n",
    "            data_clean[country[\"countryname\"]][\"ifs\"] = country[\"ifs\"]\n",
    "            data_clean[country[\"countryname\"]][\"presidential\"] = []\n",
    "        data_clean[country[\"countryname\"]][\"presidential\"].append((str(1975 + i), country[\"execrlc\"]))\n",
    "        i += 1\n",
    "data_clean\n",
    "\n",
    "with open('Países-Ideologies-clean.json', 'w') as outfile:\n",
    "    json.dump(data_clean, outfile)"
   ]
  },
  {
   "cell_type": "code",
   "execution_count": 36,
   "metadata": {},
   "outputs": [],
   "source": [
    "len(data_clean)\n",
    "len(america)\n",
    "actuales = []\n",
    "for country in data_clean:\n",
    "    if data_clean[country][\"ifs\"] in america:\n",
    "        actuales.append(data_clean[country][\"ifs\"])\n",
    "for pais in america:\n",
    "    if not pais in actuales:\n",
    "        print(pais) \n"
   ]
  },
  {
   "cell_type": "code",
   "execution_count": 12,
   "metadata": {},
   "outputs": [],
   "source": [
    "import json\n",
    "Emision = [ 4986 ,  6562 ,  8361 ,  11043 ,  9943 ,  9251 ,  9534 ,  9441 ,  9710 ,  9902 ,  10489 ,  12337 ,  13616 ,  13490 ,  14524 ,  19559 ,  20090 ,  21584 ,  25240 ,  25662 ,  26088 ,  27082 ,  30048 ,  32196 ,  38985 ,  42592 ,  48187 ,  52101 ,  58942 ,  65028 ,  98161 ,  191420 ,  287319 ]\n",
    "obj = {}\n",
    "obj[\"emision\"] = []\n",
    "i = 0\n",
    "for emision in Emision:\n",
    "    obj[\"emision\"].append([str(1990+i), emision])\n",
    "    i+=1\n",
    "PIB = [ 24679 ,  25365 ,  25406 ,  26978 ,  28574 ,  29484 ,  29904 ,  31038 ,  32829 ,  36507 ,  40912 ,  43883 ,  45689 ,  46353 ,  47461 ,  48791 ,  50262 ,  51643 ,  52184 ,  54500 ,  54780 ,  55771 ,  57025 ,  56932 ,  50698 ,  51334 ,  52245 ]\n",
    "obj[\"pib\"] = []\n",
    "i = 0\n",
    "for item in PIB:\n",
    "    obj[\"pib\"].append([str(1996+i), item])\n",
    "    i+=1\n",
    "export = [ 5991477 ,  5321489 ,  5402060 ,  5512441 ,  5399884 ,  5414949 ,  2979512 ,  1779424 ,  1156663 ,  1330756 ,  1491634 ,  1865526 ,  1819127 ,  1512197 ,  1495783 ,  1675259 ,  1621891 ,  1421670 ,  1688017 ,  2332118 ,  2159443 ,  2924558 ,  3685665 ,  3664157 ,  2863004 ,  4549533 ,  5870090 ,  5577268 ,  5283142 ,  4857468 ,  3349640 ,  2316934 ,  2401688 ,  2372779 ,  2062469 ,  1702812 ,  1966040 ,  2170009 ]\n",
    "obj[\"exportaciones\"] = []\n",
    "i = 0\n",
    "for item in export:\n",
    "    obj[\"exportaciones\"].append([str(1985+i), item])\n",
    "    i+=1\n",
    "importa = [ 8034976 , 7596136 , 7583678 , 7602894 , 8139811 , 7416525 , 4233752 , 2314916 , 2008215 , 2016821 , 2882530 , 3568997 , 3987256 , 4181192 , 4349090 , 4795613 , 4793235 , 4188148 , 4672763 , 5615198 , 7604259 , 9497890 , 10079210 , 14234094 , 8906010 , 10644338 , 13952403 , 13800851 , 14706619 , 13036844 , 11702367 , 10269904 , 10171982 , 11483653 , 9901427 , 7230347 , 8431207 , 9833119 ]\n",
    "obj[\"importaciones\"] = []\n",
    "i = 0\n",
    "for item in importa:\n",
    "    obj[\"importaciones\"].append([str(1985+i), item])\n",
    "    i+=1\n",
    "\n",
    "with open('import-export-pib-emision.json', 'w') as outfile:\n",
    "    json.dump(obj, outfile)"
   ]
  },
  {
   "cell_type": "code",
   "execution_count": 13,
   "metadata": {},
   "outputs": [],
   "source": [
    "agro = [9523, 8154, 5323, 5158]\n",
    "alime = [2759, 2285, 2147, 1729]\n",
    "bebi = [8040, 7641, 6200, 5160]\n",
    "cauch = [156, 104, 78, 55]\n",
    "constr = [1640, 1375, 1052, 846]\n",
    "oferta = {}\n",
    "oferta[\"agropecuario\"] = {}\n",
    "oferta[\"alimenticios\"] = {}\n",
    "oferta[\"bebidas\"] = {}\n",
    "oferta[\"caucho_y_plástico\"] = {}\n",
    "oferta[\"construcción\"] = {}\n",
    "for i in range(4):\n",
    "    oferta[\"agropecuario\"][str(2018+i)] = agro[i]\n",
    "    oferta[\"alimenticios\"][str(2018+i)] = alime[i]\n",
    "    oferta[\"bebidas\"][str(2018+i)] = bebi[i]\n",
    "    oferta[\"caucho_y_plástico\"][str(2018+i)] = cauch[i]\n",
    "    oferta[\"construcción\"][str(2018+i)] = constr[i]\n",
    "oferta\n",
    "with open('oferta.json', 'w') as outfile:\n",
    "    json.dump(oferta, outfile)"
   ]
  }
 ],
 "metadata": {
  "kernelspec": {
   "display_name": "Python 3",
   "language": "python",
   "name": "python3"
  },
  "language_info": {
   "codemirror_mode": {
    "name": "ipython",
    "version": 3
   },
   "file_extension": ".py",
   "mimetype": "text/x-python",
   "name": "python",
   "nbconvert_exporter": "python",
   "pygments_lexer": "ipython3",
   "version": "3.12.1"
  }
 },
 "nbformat": 4,
 "nbformat_minor": 2
}
